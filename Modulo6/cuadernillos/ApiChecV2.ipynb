{
  "cells": [
    {
      "cell_type": "markdown",
      "metadata": {
        "id": "view-in-github",
        "colab_type": "text"
      },
      "source": [
        "<a href=\"https://colab.research.google.com/github/UN-GCPDS/curso_IA_CHEC/blob/main/Modulo6/cuadernillos/ApiChecV2.ipynb\" target=\"_parent\"><img src=\"https://colab.research.google.com/assets/colab-badge.svg\" alt=\"Open In Colab\"/></a>"
      ]
    },
    {
      "cell_type": "code",
      "execution_count": null,
      "metadata": {
        "colab": {
          "base_uri": "https://localhost:8080/"
        },
        "id": "47I6UIWiLK4P",
        "outputId": "1bcc498c-cc6a-4000-8e92-82a83097ab7d"
      },
      "outputs": [
        {
          "name": "stdout",
          "output_type": "stream",
          "text": [
            "Cloning into 'curso_IA_CHEC'...\n",
            "remote: Enumerating objects: 1448, done.\u001b[K\n",
            "remote: Counting objects: 100% (695/695), done.\u001b[K\n",
            "remote: Compressing objects: 100% (434/434), done.\u001b[K\n",
            "remote: Total 1448 (delta 339), reused 488 (delta 233), pack-reused 753 (from 1)\u001b[K\n",
            "Receiving objects: 100% (1448/1448), 83.88 MiB | 11.11 MiB/s, done.\n",
            "Resolving deltas: 100% (831/831), done.\n",
            "Updating files: 100% (95/95), done.\n"
          ]
        }
      ],
      "source": [
        "!git clone https://github.com/UN-GCPDS/curso_IA_CHEC.git"
      ]
    },
    {
      "cell_type": "code",
      "execution_count": null,
      "metadata": {
        "colab": {
          "base_uri": "https://localhost:8080/"
        },
        "id": "rsr6KD17NJMA",
        "outputId": "03193ddb-e9ad-4fea-e433-24f3847e82c8"
      },
      "outputs": [
        {
          "name": "stdout",
          "output_type": "stream",
          "text": [
            "/content/curso_IA_CHEC/Modulo6/Practice\n"
          ]
        }
      ],
      "source": [
        "%cd /content/curso_IA_CHEC/Modulo6/Practice"
      ]
    },
    {
      "cell_type": "code",
      "execution_count": null,
      "metadata": {
        "colab": {
          "base_uri": "https://localhost:8080/",
          "height": 1000
        },
        "id": "bOA9ng7NNHwZ",
        "outputId": "097a6a06-0922-4260-8ef4-97805609f6a4"
      },
      "outputs": [
        {
          "name": "stdout",
          "output_type": "stream",
          "text": [
            "Collecting numpy==1.24.4 (from -r requirements.txt (line 1))\n",
            "  Downloading numpy-1.24.4-cp310-cp310-manylinux_2_17_x86_64.manylinux2014_x86_64.whl.metadata (5.6 kB)\n",
            "Collecting pandas==2.1.1 (from -r requirements.txt (line 2))\n",
            "  Downloading pandas-2.1.1-cp310-cp310-manylinux_2_17_x86_64.manylinux2014_x86_64.whl.metadata (18 kB)\n",
            "Requirement already satisfied: matplotlib==3.8.0 in /usr/local/lib/python3.10/dist-packages (from -r requirements.txt (line 3)) (3.8.0)\n",
            "Collecting seaborn==0.12.2 (from -r requirements.txt (line 4))\n",
            "  Downloading seaborn-0.12.2-py3-none-any.whl.metadata (5.4 kB)\n",
            "Collecting scikit-learn==1.3.1 (from -r requirements.txt (line 5))\n",
            "  Downloading scikit_learn-1.3.1-cp310-cp310-manylinux_2_17_x86_64.manylinux2014_x86_64.whl.metadata (11 kB)\n",
            "Collecting umap-learn==0.5.4 (from -r requirements.txt (line 6))\n",
            "  Downloading umap-learn-0.5.4.tar.gz (90 kB)\n",
            "\u001b[2K     \u001b[90m━━━━━━━━━━━━━━━━━━━━━━━━━━━━━━━━━━━━━━━━\u001b[0m \u001b[32m90.8/90.8 kB\u001b[0m \u001b[31m3.7 MB/s\u001b[0m eta \u001b[36m0:00:00\u001b[0m\n",
            "\u001b[?25h  Preparing metadata (setup.py) ... \u001b[?25l\u001b[?25hdone\n",
            "Collecting flask==3.0.0 (from -r requirements.txt (line 7))\n",
            "  Downloading flask-3.0.0-py3-none-any.whl.metadata (3.6 kB)\n",
            "Collecting joblib==1.3.2 (from -r requirements.txt (line 8))\n",
            "  Downloading joblib-1.3.2-py3-none-any.whl.metadata (5.4 kB)\n",
            "Collecting pyngrok (from -r requirements.txt (line 9))\n",
            "  Downloading pyngrok-7.2.1-py3-none-any.whl.metadata (8.3 kB)\n",
            "Requirement already satisfied: python-dateutil>=2.8.2 in /usr/local/lib/python3.10/dist-packages (from pandas==2.1.1->-r requirements.txt (line 2)) (2.8.2)\n",
            "Requirement already satisfied: pytz>=2020.1 in /usr/local/lib/python3.10/dist-packages (from pandas==2.1.1->-r requirements.txt (line 2)) (2024.2)\n",
            "Requirement already satisfied: tzdata>=2022.1 in /usr/local/lib/python3.10/dist-packages (from pandas==2.1.1->-r requirements.txt (line 2)) (2024.2)\n",
            "Requirement already satisfied: contourpy>=1.0.1 in /usr/local/lib/python3.10/dist-packages (from matplotlib==3.8.0->-r requirements.txt (line 3)) (1.3.1)\n",
            "Requirement already satisfied: cycler>=0.10 in /usr/local/lib/python3.10/dist-packages (from matplotlib==3.8.0->-r requirements.txt (line 3)) (0.12.1)\n",
            "Requirement already satisfied: fonttools>=4.22.0 in /usr/local/lib/python3.10/dist-packages (from matplotlib==3.8.0->-r requirements.txt (line 3)) (4.55.0)\n",
            "Requirement already satisfied: kiwisolver>=1.0.1 in /usr/local/lib/python3.10/dist-packages (from matplotlib==3.8.0->-r requirements.txt (line 3)) (1.4.7)\n",
            "Requirement already satisfied: packaging>=20.0 in /usr/local/lib/python3.10/dist-packages (from matplotlib==3.8.0->-r requirements.txt (line 3)) (24.2)\n",
            "Requirement already satisfied: pillow>=6.2.0 in /usr/local/lib/python3.10/dist-packages (from matplotlib==3.8.0->-r requirements.txt (line 3)) (11.0.0)\n",
            "Requirement already satisfied: pyparsing>=2.3.1 in /usr/local/lib/python3.10/dist-packages (from matplotlib==3.8.0->-r requirements.txt (line 3)) (3.2.0)\n",
            "Requirement already satisfied: scipy>=1.5.0 in /usr/local/lib/python3.10/dist-packages (from scikit-learn==1.3.1->-r requirements.txt (line 5)) (1.13.1)\n",
            "Requirement already satisfied: threadpoolctl>=2.0.0 in /usr/local/lib/python3.10/dist-packages (from scikit-learn==1.3.1->-r requirements.txt (line 5)) (3.5.0)\n",
            "Requirement already satisfied: numba>=0.51.2 in /usr/local/lib/python3.10/dist-packages (from umap-learn==0.5.4->-r requirements.txt (line 6)) (0.60.0)\n",
            "Collecting pynndescent>=0.5 (from umap-learn==0.5.4->-r requirements.txt (line 6))\n",
            "  Downloading pynndescent-0.5.13-py3-none-any.whl.metadata (6.8 kB)\n",
            "Requirement already satisfied: tqdm in /usr/local/lib/python3.10/dist-packages (from umap-learn==0.5.4->-r requirements.txt (line 6)) (4.66.6)\n",
            "Requirement already satisfied: tbb>=2019.0 in /usr/local/lib/python3.10/dist-packages (from umap-learn==0.5.4->-r requirements.txt (line 6)) (2022.0.0)\n",
            "Requirement already satisfied: Werkzeug>=3.0.0 in /usr/local/lib/python3.10/dist-packages (from flask==3.0.0->-r requirements.txt (line 7)) (3.1.3)\n",
            "Requirement already satisfied: Jinja2>=3.1.2 in /usr/local/lib/python3.10/dist-packages (from flask==3.0.0->-r requirements.txt (line 7)) (3.1.4)\n",
            "Requirement already satisfied: itsdangerous>=2.1.2 in /usr/local/lib/python3.10/dist-packages (from flask==3.0.0->-r requirements.txt (line 7)) (2.2.0)\n",
            "Requirement already satisfied: click>=8.1.3 in /usr/local/lib/python3.10/dist-packages (from flask==3.0.0->-r requirements.txt (line 7)) (8.1.7)\n",
            "Requirement already satisfied: blinker>=1.6.2 in /usr/local/lib/python3.10/dist-packages (from flask==3.0.0->-r requirements.txt (line 7)) (1.9.0)\n",
            "Requirement already satisfied: PyYAML>=5.1 in /usr/local/lib/python3.10/dist-packages (from pyngrok->-r requirements.txt (line 9)) (6.0.2)\n",
            "Requirement already satisfied: MarkupSafe>=2.0 in /usr/local/lib/python3.10/dist-packages (from Jinja2>=3.1.2->flask==3.0.0->-r requirements.txt (line 7)) (3.0.2)\n",
            "Requirement already satisfied: llvmlite<0.44,>=0.43.0dev0 in /usr/local/lib/python3.10/dist-packages (from numba>=0.51.2->umap-learn==0.5.4->-r requirements.txt (line 6)) (0.43.0)\n",
            "Requirement already satisfied: six>=1.5 in /usr/local/lib/python3.10/dist-packages (from python-dateutil>=2.8.2->pandas==2.1.1->-r requirements.txt (line 2)) (1.16.0)\n",
            "Requirement already satisfied: tcmlib==1.* in /usr/local/lib/python3.10/dist-packages (from tbb>=2019.0->umap-learn==0.5.4->-r requirements.txt (line 6)) (1.2.0)\n",
            "Downloading numpy-1.24.4-cp310-cp310-manylinux_2_17_x86_64.manylinux2014_x86_64.whl (17.3 MB)\n",
            "\u001b[2K   \u001b[90m━━━━━━━━━━━━━━━━━━━━━━━━━━━━━━━━━━━━━━━━\u001b[0m \u001b[32m17.3/17.3 MB\u001b[0m \u001b[31m71.8 MB/s\u001b[0m eta \u001b[36m0:00:00\u001b[0m\n",
            "\u001b[?25hDownloading pandas-2.1.1-cp310-cp310-manylinux_2_17_x86_64.manylinux2014_x86_64.whl (12.3 MB)\n",
            "\u001b[2K   \u001b[90m━━━━━━━━━━━━━━━━━━━━━━━━━━━━━━━━━━━━━━━━\u001b[0m \u001b[32m12.3/12.3 MB\u001b[0m \u001b[31m82.1 MB/s\u001b[0m eta \u001b[36m0:00:00\u001b[0m\n",
            "\u001b[?25hDownloading seaborn-0.12.2-py3-none-any.whl (293 kB)\n",
            "\u001b[2K   \u001b[90m━━━━━━━━━━━━━━━━━━━━━━━━━━━━━━━━━━━━━━━━\u001b[0m \u001b[32m293.3/293.3 kB\u001b[0m \u001b[31m21.1 MB/s\u001b[0m eta \u001b[36m0:00:00\u001b[0m\n",
            "\u001b[?25hDownloading scikit_learn-1.3.1-cp310-cp310-manylinux_2_17_x86_64.manylinux2014_x86_64.whl (10.8 MB)\n",
            "\u001b[2K   \u001b[90m━━━━━━━━━━━━━━━━━━━━━━━━━━━━━━━━━━━━━━━━\u001b[0m \u001b[32m10.8/10.8 MB\u001b[0m \u001b[31m89.4 MB/s\u001b[0m eta \u001b[36m0:00:00\u001b[0m\n",
            "\u001b[?25hDownloading flask-3.0.0-py3-none-any.whl (99 kB)\n",
            "\u001b[2K   \u001b[90m━━━━━━━━━━━━━━━━━━━━━━━━━━━━━━━━━━━━━━━━\u001b[0m \u001b[32m99.7/99.7 kB\u001b[0m \u001b[31m8.3 MB/s\u001b[0m eta \u001b[36m0:00:00\u001b[0m\n",
            "\u001b[?25hDownloading joblib-1.3.2-py3-none-any.whl (302 kB)\n",
            "\u001b[2K   \u001b[90m━━━━━━━━━━━━━━━━━━━━━━━━━━━━━━━━━━━━━━━━\u001b[0m \u001b[32m302.2/302.2 kB\u001b[0m \u001b[31m21.3 MB/s\u001b[0m eta \u001b[36m0:00:00\u001b[0m\n",
            "\u001b[?25hDownloading pyngrok-7.2.1-py3-none-any.whl (22 kB)\n",
            "Downloading pynndescent-0.5.13-py3-none-any.whl (56 kB)\n",
            "\u001b[2K   \u001b[90m━━━━━━━━━━━━━━━━━━━━━━━━━━━━━━━━━━━━━━━━\u001b[0m \u001b[32m56.9/56.9 kB\u001b[0m \u001b[31m4.2 MB/s\u001b[0m eta \u001b[36m0:00:00\u001b[0m\n",
            "\u001b[?25hBuilding wheels for collected packages: umap-learn\n",
            "  Building wheel for umap-learn (setup.py) ... \u001b[?25l\u001b[?25hdone\n",
            "  Created wheel for umap-learn: filename=umap_learn-0.5.4-py3-none-any.whl size=86775 sha256=62638bedf58ac7c07fd44680698b2288ad40f5897977144d41d6a59b55d4d2ce\n",
            "  Stored in directory: /root/.cache/pip/wheels/fb/66/29/199acf5784d0f7b8add6d466175ab45506c96e386ed5dd0633\n",
            "Successfully built umap-learn\n",
            "Installing collected packages: pyngrok, numpy, joblib, pandas, flask, scikit-learn, seaborn, pynndescent, umap-learn\n",
            "  Attempting uninstall: numpy\n",
            "    Found existing installation: numpy 1.26.4\n",
            "    Uninstalling numpy-1.26.4:\n",
            "      Successfully uninstalled numpy-1.26.4\n",
            "  Attempting uninstall: joblib\n",
            "    Found existing installation: joblib 1.4.2\n",
            "    Uninstalling joblib-1.4.2:\n",
            "      Successfully uninstalled joblib-1.4.2\n",
            "  Attempting uninstall: pandas\n",
            "    Found existing installation: pandas 2.2.2\n",
            "    Uninstalling pandas-2.2.2:\n",
            "      Successfully uninstalled pandas-2.2.2\n",
            "  Attempting uninstall: flask\n",
            "    Found existing installation: Flask 3.0.3\n",
            "    Uninstalling Flask-3.0.3:\n",
            "      Successfully uninstalled Flask-3.0.3\n",
            "  Attempting uninstall: scikit-learn\n",
            "    Found existing installation: scikit-learn 1.5.2\n",
            "    Uninstalling scikit-learn-1.5.2:\n",
            "      Successfully uninstalled scikit-learn-1.5.2\n",
            "  Attempting uninstall: seaborn\n",
            "    Found existing installation: seaborn 0.13.2\n",
            "    Uninstalling seaborn-0.13.2:\n",
            "      Successfully uninstalled seaborn-0.13.2\n",
            "\u001b[31mERROR: pip's dependency resolver does not currently take into account all the packages that are installed. This behaviour is the source of the following dependency conflicts.\n",
            "google-colab 1.0.0 requires pandas==2.2.2, but you have pandas 2.1.1 which is incompatible.\n",
            "mizani 0.13.0 requires pandas>=2.2.0, but you have pandas 2.1.1 which is incompatible.\n",
            "plotnine 0.14.1 requires pandas>=2.2.0, but you have pandas 2.1.1 which is incompatible.\u001b[0m\u001b[31m\n",
            "\u001b[0mSuccessfully installed flask-3.0.0 joblib-1.3.2 numpy-1.24.4 pandas-2.1.1 pyngrok-7.2.1 pynndescent-0.5.13 scikit-learn-1.3.1 seaborn-0.12.2 umap-learn-0.5.4\n"
          ]
        },
        {
          "data": {
            "application/vnd.colab-display-data+json": {
              "id": "78911235c2394144b4a4d13bba2408cc",
              "pip_warning": {
                "packages": [
                  "numpy"
                ]
              }
            }
          },
          "metadata": {},
          "output_type": "display_data"
        }
      ],
      "source": [
        "!pip install -r requirements.txt"
      ]
    },
    {
      "cell_type": "code",
      "execution_count": null,
      "metadata": {
        "id": "OZYvUAruK5n3"
      },
      "outputs": [],
      "source": [
        "\n",
        "###################################\n",
        "#### IMPORTAMOS LIBRERIAS #########\n",
        "###################################\n",
        "import warnings\n",
        "warnings.filterwarnings(\"ignore\")\n",
        "# Manipulación de datos\n",
        "import numpy as np\n",
        "import pandas as pd\n",
        "# Visualización de datos\n",
        "import matplotlib.pyplot as plt\n",
        "import seaborn as sns\n",
        "# Configuración de gráficos\n",
        "sns.set()\n",
        "# Reducción de dimensionalidad\n",
        "from sklearn.decomposition import PCA, KernelPCA\n",
        "from sklearn.manifold import TSNE\n",
        "import umap\n",
        "# Preprocesamiento de datos\n",
        "from sklearn.preprocessing import MinMaxScaler, StandardScaler, OneHotEncoder, LabelEncoder\n",
        "# Modelos de selección y evaluación\n",
        "from sklearn.model_selection import train_test_split\n",
        "from sklearn.pipeline import Pipeline\n",
        "# Modelos de aprendizaje automático\n",
        "from sklearn.linear_model import LogisticRegression, LinearRegression, Ridge, Lasso, ElasticNet\n",
        "from sklearn.tree import DecisionTreeClassifier, DecisionTreeRegressor\n",
        "from sklearn.neighbors import KNeighborsClassifier\n",
        "from sklearn.svm import SVC, SVR\n",
        "from sklearn.kernel_ridge import KernelRidge\n",
        "from sklearn.gaussian_process import GaussianProcessRegressor\n",
        "from sklearn.gaussian_process.kernels import RBF, ConstantKernel as C\n",
        "# Métricas de evaluación\n",
        "from sklearn.metrics import accuracy_score, confusion_matrix, ConfusionMatrixDisplay\n",
        "from sklearn.metrics import mean_absolute_error, mean_squared_error, mean_absolute_percentage_error, r2_score\n",
        "# Guardar o cargar pesos del modelo\n",
        "import joblib\n",
        "# PROYECTO BACKEND\n",
        "from flask import Flask, request, jsonify"
      ]
    },
    {
      "cell_type": "code",
      "execution_count": null,
      "metadata": {
        "id": "fLJVze8DLfG-"
      },
      "outputs": [],
      "source": [
        "import joblib\n",
        "from pyngrok import ngrok"
      ]
    },
    {
      "cell_type": "markdown",
      "metadata": {
        "id": "Lx4bTjLyLagy"
      },
      "source": [
        "## APIS"
      ]
    },
    {
      "cell_type": "markdown",
      "metadata": {
        "id": "Q6aPmUmXW8RJ"
      },
      "source": [
        "LOCAL"
      ]
    },
    {
      "cell_type": "code",
      "execution_count": null,
      "metadata": {
        "colab": {
          "base_uri": "https://localhost:8080/"
        },
        "id": "M9yhIHN4W9TA",
        "outputId": "e4a0bb88-2066-4dff-a356-8ca8b52dee8e"
      },
      "outputs": [
        {
          "name": "stdout",
          "output_type": "stream",
          "text": [
            " * Serving Flask app '__main__'\n",
            " * Debug mode: off\n"
          ]
        },
        {
          "name": "stderr",
          "output_type": "stream",
          "text": [
            "INFO:werkzeug:\u001b[31m\u001b[1mWARNING: This is a development server. Do not use it in a production deployment. Use a production WSGI server instead.\u001b[0m\n",
            " * Running on http://127.0.0.1:5000\n",
            "INFO:werkzeug:\u001b[33mPress CTRL+C to quit\u001b[0m\n"
          ]
        }
      ],
      "source": [
        "app = Flask(__name__)\n",
        "\n",
        "################################\n",
        "# CARGAMOS EL MODELO ENTRENADO##\n",
        "################################\n",
        "\n",
        "MODEL = joblib.load('./weights/logistic_regression_model.pkl')\n",
        "\n",
        "\n",
        "################################\n",
        "# GENERAMOS LAS APIS DE ACCESO #\n",
        "################################\n",
        "\n",
        "@app.route('/')\n",
        "def main():\n",
        "    return '<h1>Hellow this is your main app in colab<h1>'\n",
        "\n",
        "@app.route('/getData', methods=['GET'])\n",
        "def getData():\n",
        "    \"\"\"\n",
        "    Endpoint para obtener los datos con los cuales testear un modelo\n",
        "    \"\"\"\n",
        "    try:\n",
        "        loaded_inputs = np.load('./datasets/test_data.npy')\n",
        "        loaded_labels = np.load('./datasets/test_labels.npy')\n",
        "        # Responder con los resultados\n",
        "        return jsonify({\n",
        "            \"inputs\": loaded_inputs.tolist(),\n",
        "            \"labels\": loaded_labels.tolist()\n",
        "        })\n",
        "    except Exception as e:\n",
        "        return jsonify({\"error\": str(e)}), 400\n",
        "\n",
        "\n",
        "\n",
        "@app.route('/calculate_accuracy', methods=['GET'])\n",
        "def calculateAccuracy():\n",
        "     \"\"\"\n",
        "     Endpoint para calcular el accuracy actual del modelo con una base de datos de pruebas.\n",
        "     Recibe datos en formato JSON y devuelve las predicciones.\n",
        "     \"\"\"\n",
        "     loaded_inputs = np.load('./datasets/test_data.npy')\n",
        "     loaded_labels = np.load('./datasets/test_labels.npy')\n",
        "     try:\n",
        "        # Hacer predicciones en el conjunto de prueba\n",
        "        y_pred = MODEL.predict(loaded_inputs)\n",
        "        # Calcular la precisión\n",
        "        accuracy = accuracy_score(loaded_labels, y_pred)\n",
        "        # Responder con los resultados\n",
        "        return jsonify({\n",
        "            \"accuracy\": accuracy\n",
        "        })\n",
        "     except Exception as e:\n",
        "         return jsonify({\"error\": str(e)}), 400\n",
        "\n",
        "\n",
        "if __name__ == \"__main__\":\n",
        "   app.run()"
      ]
    },
    {
      "cell_type": "markdown",
      "metadata": {
        "id": "iGTipDhxW9gV"
      },
      "source": [
        "SIMULACIÓN EN LINEA"
      ]
    },
    {
      "cell_type": "code",
      "execution_count": null,
      "metadata": {
        "colab": {
          "background_save": true,
          "base_uri": "https://localhost:8080/"
        },
        "id": "GnkwjOR0LaWh",
        "outputId": "11db5f04-128b-460e-c245-261947f03f63"
      },
      "outputs": [
        {
          "name": "stdout",
          "output_type": "stream",
          "text": [
            "https://4edd-162-222-182-100.ngrok-free.app\n",
            " * Serving Flask app '__main__'\n",
            " * Debug mode: off\n"
          ]
        },
        {
          "name": "stderr",
          "output_type": "stream",
          "text": [
            "INFO:werkzeug:\u001b[31m\u001b[1mWARNING: This is a development server. Do not use it in a production deployment. Use a production WSGI server instead.\u001b[0m\n",
            " * Running on http://127.0.0.1:5000\n",
            "INFO:werkzeug:\u001b[33mPress CTRL+C to quit\u001b[0m\n",
            "INFO:werkzeug:127.0.0.1 - - [21/Nov/2024 15:51:27] \"GET / HTTP/1.1\" 200 -\n",
            "INFO:werkzeug:127.0.0.1 - - [21/Nov/2024 15:51:27] \"\u001b[33mGET /favicon.ico HTTP/1.1\u001b[0m\" 404 -\n",
            "INFO:werkzeug:127.0.0.1 - - [21/Nov/2024 15:52:50] \"GET /getData HTTP/1.1\" 200 -\n",
            "INFO:werkzeug:127.0.0.1 - - [21/Nov/2024 15:53:09] \"GET /calculate_accuracy HTTP/1.1\" 200 -\n",
            "INFO:werkzeug:127.0.0.1 - - [21/Nov/2024 15:54:42] \"GET /calculate_accuracy HTTP/1.1\" 200 -\n",
            "INFO:werkzeug:127.0.0.1 - - [21/Nov/2024 15:54:42] \"\u001b[33mGET /favicon.ico HTTP/1.1\u001b[0m\" 404 -\n",
            "INFO:werkzeug:127.0.0.1 - - [21/Nov/2024 15:54:53] \"GET /calculate_accuracy HTTP/1.1\" 200 -\n",
            "INFO:werkzeug:127.0.0.1 - - [21/Nov/2024 15:54:56] \"HEAD /calculate_accuracy HTTP/1.1\" 200 -\n",
            "INFO:werkzeug:127.0.0.1 - - [21/Nov/2024 15:55:07] \"HEAD /calculate_accuracy HTTP/1.1\" 200 -\n",
            "INFO:werkzeug:127.0.0.1 - - [21/Nov/2024 15:55:09] \"HEAD /calculate_accuracy HTTP/1.1\" 200 -\n",
            "INFO:werkzeug:127.0.0.1 - - [21/Nov/2024 15:55:11] \"GET /calculate_accuracy HTTP/1.1\" 200 -\n",
            "INFO:werkzeug:127.0.0.1 - - [21/Nov/2024 15:55:12] \"\u001b[33mGET /favicon.ico HTTP/1.1\u001b[0m\" 404 -\n",
            "INFO:werkzeug:127.0.0.1 - - [21/Nov/2024 15:55:20] \"HEAD /calculate_accuracy HTTP/1.1\" 200 -\n",
            "INFO:werkzeug:127.0.0.1 - - [21/Nov/2024 15:55:20] \"GET /calculate_accuracy HTTP/1.1\" 200 -\n",
            "INFO:werkzeug:127.0.0.1 - - [21/Nov/2024 15:55:22] \"GET /calculate_accuracy HTTP/1.1\" 200 -\n",
            "INFO:werkzeug:127.0.0.1 - - [21/Nov/2024 15:55:22] \"\u001b[33mGET /favicon.ico HTTP/1.1\u001b[0m\" 404 -\n",
            "INFO:werkzeug:127.0.0.1 - - [21/Nov/2024 15:55:24] \"GET /getData HTTP/1.1\" 200 -\n",
            "INFO:werkzeug:127.0.0.1 - - [21/Nov/2024 15:55:53] \"HEAD /calculate_accuracy HTTP/1.1\" 200 -\n",
            "INFO:werkzeug:127.0.0.1 - - [21/Nov/2024 15:55:59] \"GET /calculate_accuracy HTTP/1.1\" 200 -\n",
            "INFO:werkzeug:127.0.0.1 - - [21/Nov/2024 15:56:43] \"GET /calculate_accuracy HTTP/1.1\" 200 -\n",
            "INFO:werkzeug:127.0.0.1 - - [21/Nov/2024 15:56:43] \"\u001b[33mGET /favicon.ico HTTP/1.1\u001b[0m\" 404 -\n"
          ]
        }
      ],
      "source": [
        "################################\n",
        "# GENERAMOS LA APLICACIÓN ######\n",
        "################################\n",
        "\n",
        "ngrok_token = '2p9iZqeUxY4SlNE4YJy53eVXC7M_2QCc7DwiAj6T4ntEQTKSA'\n",
        "port = 5000\n",
        "ngrok.set_auth_token(ngrok_token)\n",
        "app = Flask(__name__)\n",
        "\n",
        "################################\n",
        "# CARGAMOS EL MODELO ENTRENADO##\n",
        "################################\n",
        "\n",
        "MODEL = joblib.load('./weights/logistic_regression_model.pkl')\n",
        "\n",
        "\n",
        "################################\n",
        "# GENERAMOS LAS APIS DE ACCESO #\n",
        "################################\n",
        "\n",
        "@app.route('/')\n",
        "def main():\n",
        "    return '<h1>Hellow this is your main app in colab<h1>'\n",
        "\n",
        "@app.route('/getData', methods=['GET'])\n",
        "def getData():\n",
        "    \"\"\"\n",
        "    Endpoint para obtener los datos con los cuales testear un modelo\n",
        "    \"\"\"\n",
        "    try:\n",
        "        loaded_inputs = np.load('./datasets/test_data.npy')\n",
        "        loaded_labels = np.load('./datasets/test_labels.npy')\n",
        "        # Responder con los resultados\n",
        "        return jsonify({\n",
        "            \"inputs\": loaded_inputs.tolist(),\n",
        "            \"labels\": loaded_labels.tolist()\n",
        "        })\n",
        "    except Exception as e:\n",
        "        return jsonify({\"error\": str(e)}), 400\n",
        "\n",
        "\n",
        "\n",
        "@app.route('/calculate_accuracy', methods=['GET'])\n",
        "def calculateAccuracy():\n",
        "     \"\"\"\n",
        "     Endpoint para calcular el accuracy actual del modelo con una base de datos de pruebas.\n",
        "     Recibe datos en formato JSON y devuelve las predicciones.\n",
        "     \"\"\"\n",
        "     loaded_inputs = np.load('./datasets/test_data.npy')\n",
        "     loaded_labels = np.load('./datasets/test_labels.npy')\n",
        "     try:\n",
        "        # Hacer predicciones en el conjunto de prueba\n",
        "        y_pred = MODEL.predict(loaded_inputs)\n",
        "        # Calcular la precisión\n",
        "        accuracy = accuracy_score(loaded_labels, y_pred)\n",
        "        # Responder con los resultados\n",
        "        return jsonify({\n",
        "            \"accuracy\": accuracy\n",
        "        })\n",
        "     except Exception as e:\n",
        "         return jsonify({\"error\": str(e)}), 400\n",
        "\n",
        "\n",
        "if __name__ == \"__main__\":\n",
        "  try:\n",
        "    public_url = ngrok.connect(port).public_url\n",
        "    print(public_url)\n",
        "    app.run(port=port)\n",
        "  finally:\n",
        "    ngrok.disconnect(public_url=public_url)"
      ]
    }
  ],
  "metadata": {
    "colab": {
      "provenance": [],
      "authorship_tag": "ABX9TyPqQ4uJUcpu4HEHwB7URzUK",
      "include_colab_link": true
    },
    "kernelspec": {
      "display_name": "Python 3",
      "name": "python3"
    },
    "language_info": {
      "name": "python"
    }
  },
  "nbformat": 4,
  "nbformat_minor": 0
}